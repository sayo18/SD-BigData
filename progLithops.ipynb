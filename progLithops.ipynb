{
 "cells": [
  {
   "cell_type": "code",
   "execution_count": 3,
   "id": "143755a2",
   "metadata": {
    "scrolled": true
   },
   "outputs": [],
   "source": [
    "import lithops\n",
    "import xml.etree.ElementTree as ET\n",
    "import pandas as pd\n",
    "import bz2\n",
    "import boto3"
   ]
  },
  {
   "cell_type": "code",
   "execution_count": null,
   "id": "bd85c5ae",
   "metadata": {},
   "outputs": [],
   "source": [
    "from lithops import Storage\n",
    "from lithops import FunctionExecutor\n",
    "from lithops.multiprocessing import Pool"
   ]
  },
  {
   "cell_type": "code",
   "execution_count": null,
   "id": "659119e9",
   "metadata": {},
   "outputs": [],
   "source": [
    "BUCKET_NAME = \"practica-sd\"\n",
    "storage = lithops.Storage()\n",
    "wiki_list = storage.list_objects(\"practica-sd\")\n",
    "iterdata = []"
   ]
  },
  {
   "cell_type": "code",
   "execution_count": null,
   "id": "2e04c0b1",
   "metadata": {},
   "outputs": [],
   "source": [
    "for i in wiki_list:\n",
    "    key=i.get(\"Key\")\n",
    "    if key.startswith(\"Wikipedia\") and key.endswith(\".xml\"):\n",
    "        iterdata.append(key)"
   ]
  },
  {
   "cell_type": "code",
   "execution_count": 4,
   "id": "c7650013",
   "metadata": {},
   "outputs": [],
   "source": [
    "cols = [\"id\", \"title\", \"text\"]"
   ]
  },
  {
   "cell_type": "code",
   "execution_count": null,
   "id": "c2e0359b",
   "metadata": {},
   "outputs": [],
   "source": [
    "def read_wiki(wiki):\n",
    "    xml_code = storage.get_object(BUCKET_NAME, wiki)\n",
    "    root = ET.fromstring(xml_code)\n",
    "    rows = []\n",
    "    for i in root:\n",
    "        if i.tag == \"page\":\n",
    "            ns = i.find(\"ns\").text\n",
    "            if ns == \"0\":\n",
    "                id=i.find(\"id\").text\n",
    "                title=i.find(\"title\").text\n",
    "                text=i.find(\"revision\").find(\"text\").text\n",
    "                rows.append({\"id\" : id, \"title\" : title, \"text\" : text})\n",
    "    return rows"
   ]
  },
  {
   "cell_type": "code",
   "execution_count": null,
   "id": "77f27799",
   "metadata": {},
   "outputs": [],
   "source": [
    "def my_reduce_function(results):\n",
    "    rows = []\n",
    "    for map_result in results:\n",
    "        rows = rows + map_result\n",
    "    return rows"
   ]
  },
  {
   "cell_type": "code",
   "execution_count": null,
   "id": "1a711b06",
   "metadata": {},
   "outputs": [],
   "source": [
    "if __name__ == \"__main__\":\n",
    "    fexec = lithops.FunctionExecutor()\n",
    "    fexec.map_reduce(read_wiki, iterdata, my_reduce_function, reducer_wait_local=True)\n",
    "    df = pd.DataFrame(fexec.get_result(), columns=cols)\n",
    "    storage.put_object(\"practica-sd\", \"WikipediaES\", df.to_csv())"
   ]
  },
  {
   "cell_type": "code",
   "execution_count": null,
   "id": "860a26bb",
   "metadata": {},
   "outputs": [],
   "source": [
    "configuracion = {'lithops' : {'storage' : 'ibm_cos'},\n",
    "          'ibm_cos': {'region': 'REGION', 'api_key': 'API_KEY'},\n",
    "          'redis': {'host': 'HOST', 'port':'PORT'}}"
   ]
  },
  {
   "cell_type": "code",
   "execution_count": null,
   "id": "78b9af39",
   "metadata": {},
   "outputs": [],
   "source": [
    "storage = Storage(config=configuracion)\n",
    "storage = Storage(backend='redis') #esto creará una instancia de almacenamiento de redis"
   ]
  },
  {
   "cell_type": "code",
   "execution_count": null,
   "id": "ca2b3dfa",
   "metadata": {},
   "outputs": [],
   "source": [
    "dataS = storage.get_object(\"practica-sd\", \"WikipediaES\")"
   ]
  },
  {
   "cell_type": "code",
   "execution_count": null,
   "id": "0ea3cfe5",
   "metadata": {},
   "outputs": [],
   "source": [
    "obj_metadata = storage.head_object(\"practica-sd\", \"WikipediaES\")"
   ]
  },
  {
   "cell_type": "code",
   "execution_count": null,
   "id": "5fb29066",
   "metadata": {},
   "outputs": [],
   "source": [
    "storage.delete_object(\"practica-sd\", \"WikipediaES\")"
   ]
  },
  {
   "cell_type": "code",
   "execution_count": null,
   "id": "028b5bde",
   "metadata": {},
   "outputs": [],
   "source": [
    "storage.head_bucket(\"practica-sd\")"
   ]
  },
  {
   "cell_type": "code",
   "execution_count": null,
   "id": "15f38614",
   "metadata": {},
   "outputs": [],
   "source": [
    "storage.list_objects(\"practica-sd\", prefix='temp/')"
   ]
  },
  {
   "cell_type": "code",
   "execution_count": null,
   "id": "d2d7ea80",
   "metadata": {},
   "outputs": [],
   "source": [
    "storage.list_keys(\"practica-sd\")"
   ]
  },
  {
   "cell_type": "code",
   "execution_count": null,
   "id": "5943d80b",
   "metadata": {},
   "outputs": [],
   "source": [
    "boto3_client = storage.get_client()"
   ]
  },
  {
   "cell_type": "code",
   "execution_count": null,
   "id": "67a676cc",
   "metadata": {},
   "outputs": [],
   "source": [
    "cobj = storage.put_cloudobject(df.to_csv(),\"practica-sd\",\"WikipediaES\")\n",
    "dataS = storage.get_cloudobject(cobj)"
   ]
  },
  {
   "cell_type": "code",
   "execution_count": null,
   "id": "56e9c66b",
   "metadata": {},
   "outputs": [],
   "source": [
    "storage.delete_cloudobject(cobj)"
   ]
  },
  {
   "cell_type": "code",
   "execution_count": null,
   "id": "2bb1bdfc",
   "metadata": {},
   "outputs": [],
   "source": [
    "if __name__ == '__main__':\n",
    "    p = Process(target=function,args=(name,),kwargs={'language':'english'})\n",
    "    p.start()"
   ]
  },
  {
   "cell_type": "code",
   "execution_count": null,
   "id": "e85b70f0",
   "metadata": {},
   "outputs": [],
   "source": [
    "if __name__ == '__main__':\n",
    "    pool = Pool(processes= 4)\n",
    "    count = pool.map(is_inside,part_count)"
   ]
  },
  {
   "cell_type": "code",
   "execution_count": null,
   "id": "73985d66",
   "metadata": {},
   "outputs": [],
   "source": [
    "def get_file(key,storage):\n",
    "    return storage.get_object(bucket=BUCKET_NAME, key=\"WikipediaES\")"
   ]
  },
  {
   "cell_type": "code",
   "execution_count": null,
   "id": "b649ba00",
   "metadata": {},
   "outputs": [],
   "source": [
    "if __name__ == \"__main__\":\n",
    "    storage = Storage()\n",
    "    storage.put_object(bucket=BUCKET_NAME,\n",
    "                      key=\"WikipediaES\",\n",
    "                      body=df.to_csv())"
   ]
  },
  {
   "cell_type": "code",
   "execution_count": null,
   "id": "24170c67",
   "metadata": {},
   "outputs": [],
   "source": [
    "with FunctionExecutor() as fexec:\n",
    "    fut = fexec.call_async(get_file, \"WikipediaES\")\n",
    "    print(fut.result())"
   ]
  },
  {
   "cell_type": "code",
   "execution_count": null,
   "id": "4f91f840",
   "metadata": {},
   "outputs": [],
   "source": []
  },
  {
   "cell_type": "code",
   "execution_count": null,
   "id": "a669edb2",
   "metadata": {},
   "outputs": [],
   "source": []
  },
  {
   "cell_type": "code",
   "execution_count": null,
   "id": "49f1e7cc",
   "metadata": {},
   "outputs": [],
   "source": []
  },
  {
   "cell_type": "code",
   "execution_count": null,
   "id": "267c326c",
   "metadata": {},
   "outputs": [],
   "source": []
  },
  {
   "cell_type": "code",
   "execution_count": null,
   "id": "da1af933",
   "metadata": {},
   "outputs": [],
   "source": []
  },
  {
   "cell_type": "code",
   "execution_count": null,
   "id": "27dd1b05",
   "metadata": {},
   "outputs": [],
   "source": []
  },
  {
   "cell_type": "code",
   "execution_count": null,
   "id": "b144a372",
   "metadata": {},
   "outputs": [],
   "source": []
  },
  {
   "cell_type": "code",
   "execution_count": null,
   "id": "b95e5b08",
   "metadata": {},
   "outputs": [],
   "source": []
  },
  {
   "cell_type": "code",
   "execution_count": null,
   "id": "8f395487",
   "metadata": {},
   "outputs": [],
   "source": []
  },
  {
   "cell_type": "code",
   "execution_count": null,
   "id": "d16e279b",
   "metadata": {},
   "outputs": [],
   "source": []
  },
  {
   "cell_type": "code",
   "execution_count": null,
   "id": "c29679c0",
   "metadata": {},
   "outputs": [],
   "source": []
  },
  {
   "cell_type": "code",
   "execution_count": null,
   "id": "695e2e8c",
   "metadata": {},
   "outputs": [],
   "source": []
  },
  {
   "cell_type": "code",
   "execution_count": null,
   "id": "e547f565",
   "metadata": {},
   "outputs": [],
   "source": []
  },
  {
   "cell_type": "code",
   "execution_count": null,
   "id": "8b6cc0e3",
   "metadata": {},
   "outputs": [],
   "source": []
  },
  {
   "cell_type": "code",
   "execution_count": null,
   "id": "3a0ef055",
   "metadata": {},
   "outputs": [],
   "source": []
  },
  {
   "cell_type": "code",
   "execution_count": null,
   "id": "0ff2e260",
   "metadata": {},
   "outputs": [],
   "source": []
  },
  {
   "cell_type": "code",
   "execution_count": null,
   "id": "44788006",
   "metadata": {},
   "outputs": [],
   "source": []
  },
  {
   "cell_type": "code",
   "execution_count": null,
   "id": "d5328432",
   "metadata": {},
   "outputs": [],
   "source": []
  },
  {
   "cell_type": "code",
   "execution_count": null,
   "id": "c3afd97f",
   "metadata": {},
   "outputs": [],
   "source": []
  },
  {
   "cell_type": "code",
   "execution_count": null,
   "id": "483d4b7e",
   "metadata": {},
   "outputs": [],
   "source": []
  },
  {
   "cell_type": "code",
   "execution_count": null,
   "id": "2c58807f",
   "metadata": {},
   "outputs": [],
   "source": []
  },
  {
   "cell_type": "code",
   "execution_count": null,
   "id": "460001a3",
   "metadata": {},
   "outputs": [],
   "source": []
  }
 ],
 "metadata": {
  "kernelspec": {
   "display_name": "Python 3",
   "language": "python",
   "name": "python3"
  },
  "language_info": {
   "codemirror_mode": {
    "name": "ipython",
    "version": 3
   },
   "file_extension": ".py",
   "mimetype": "text/x-python",
   "name": "python",
   "nbconvert_exporter": "python",
   "pygments_lexer": "ipython3",
   "version": "3.8.8"
  }
 },
 "nbformat": 4,
 "nbformat_minor": 5
}
